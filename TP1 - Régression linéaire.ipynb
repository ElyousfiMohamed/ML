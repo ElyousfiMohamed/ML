{
  "nbformat": 4,
  "nbformat_minor": 0,
  "metadata": {
    "colab": {
      "name": "TP1.ipynb",
      "provenance": [],
      "collapsed_sections": [],
      "authorship_tag": "ABX9TyN/2Cl0XxcRqO2e4+m0odl2",
      "include_colab_link": true
    },
    "kernelspec": {
      "name": "python3",
      "display_name": "Python 3"
    },
    "language_info": {
      "name": "python"
    }
  },
  "cells": [
    {
      "cell_type": "markdown",
      "metadata": {
        "id": "view-in-github",
        "colab_type": "text"
      },
      "source": [
        "<a href=\"https://colab.research.google.com/github/ElyousfiMohamed/ML/blob/main/TP1%20-%20R%C3%A9gression%20lin%C3%A9aire.ipynb\" target=\"_parent\"><img src=\"https://colab.research.google.com/assets/colab-badge.svg\" alt=\"Open In Colab\"/></a>"
      ]
    },
    {
      "cell_type": "code",
      "execution_count": 19,
      "metadata": {
        "id": "iQnG73Bc-s4a"
      },
      "outputs": [],
      "source": [
        "import numpy as np\n",
        "import matplotlib.pyplot as plt"
      ]
    },
    {
      "cell_type": "code",
      "source": [
        "from random import seed\n",
        "from random import random"
      ],
      "metadata": {
        "id": "94_0xtELBzCg"
      },
      "execution_count": 20,
      "outputs": []
    },
    {
      "cell_type": "code",
      "source": [
        "def generateData(n):\n",
        "  data = []\n",
        "  seed(1)\n",
        "  \n",
        "  for i in range(n):\n",
        "    x = i\n",
        "    y = 2*x+1+random()\n",
        "    data.append([x,y])\n",
        "  \n",
        "  data = np.array(data)\n",
        "  return data"
      ],
      "metadata": {
        "id": "6VPJam0iCpoJ"
      },
      "execution_count": 21,
      "outputs": []
    },
    {
      "cell_type": "code",
      "source": [
        "data = generateData(20)\n",
        "print(data)"
      ],
      "metadata": {
        "colab": {
          "base_uri": "https://localhost:8080/"
        },
        "id": "6OwOav6MFfC5",
        "outputId": "514de442-eea7-41e6-8598-be43fcdb87b4"
      },
      "execution_count": 22,
      "outputs": [
        {
          "output_type": "stream",
          "name": "stdout",
          "text": [
            "[[ 0.          1.13436424]\n",
            " [ 1.          3.84743374]\n",
            " [ 2.          5.76377462]\n",
            " [ 3.          7.25506903]\n",
            " [ 4.          9.49543509]\n",
            " [ 5.         11.44949106]\n",
            " [ 6.         13.65159297]\n",
            " [ 7.         15.78872335]\n",
            " [ 8.         17.09385959]\n",
            " [ 9.         19.02834748]\n",
            " [10.         21.8357651 ]\n",
            " [11.         23.43276707]\n",
            " [12.         25.76228008]\n",
            " [13.         27.00210605]\n",
            " [14.         29.44538719]\n",
            " [15.         31.72154003]\n",
            " [16.         33.22876222]\n",
            " [17.         35.9452707 ]\n",
            " [18.         37.90142746]\n",
            " [19.         39.03058998]]\n"
          ]
        }
      ]
    },
    {
      "cell_type": "code",
      "source": [
        "x = []\n",
        "y = [] \n",
        "\n",
        "for i in data:\n",
        "  x.append(i[0])\n",
        "  y.append(i[1])\n",
        "\n",
        "plt.plot(x,y,\"r.\")"
      ],
      "metadata": {
        "colab": {
          "base_uri": "https://localhost:8080/",
          "height": 282
        },
        "id": "Bve5gUkdH-8y",
        "outputId": "c5c4f3ed-d49e-46b3-ad09-8519d157c65b"
      },
      "execution_count": 23,
      "outputs": [
        {
          "output_type": "execute_result",
          "data": {
            "text/plain": [
              "[<matplotlib.lines.Line2D at 0x7fa0d5586e10>]"
            ]
          },
          "metadata": {},
          "execution_count": 23
        },
        {
          "output_type": "display_data",
          "data": {
            "text/plain": [
              "<Figure size 432x288 with 1 Axes>"
            ],
            "image/png": "[encoded data removed]"
          },
          "metadata": {
            "needs_background": "light"
          }
        }
      ]
    },
    {
      "cell_type": "code",
      "source": [
        "def fit(x,y):\n",
        "  a = np.cov(x,y)[0,1]/np.var(x)   # np.cov(x,y) return une matrice, donc il faut extraire la valeur de cov(x,y) dans la ligne 0 col 1\n",
        "  b = np.mean(y) - a * np.mean(x)\n",
        "  return a,b"
      ],
      "metadata": {
        "id": "-F0cxyUkNILi"
      },
      "execution_count": 24,
      "outputs": []
    },
    {
      "cell_type": "code",
      "source": [
        "def predict(x,a,b):\n",
        "  return a*np.array(x)+b"
      ],
      "metadata": {
        "id": "tqwr8wfCUWTz"
      },
      "execution_count": 25,
      "outputs": []
    },
    {
      "cell_type": "code",
      "source": [
        "a,b = fit(x,y)\n",
        "predict(x,a,b)"
      ],
      "metadata": {
        "colab": {
          "base_uri": "https://localhost:8080/"
        },
        "id": "xI1PS6PNUedr",
        "outputId": "afbe326d-3fa4-44fc-9103-a6c0cd1643d4"
      },
      "execution_count": 26,
      "outputs": [
        {
          "output_type": "execute_result",
          "data": {
            "text/plain": [
              "array([ 0.48376424,  2.58975741,  4.69575058,  6.80174375,  8.90773692,\n",
              "       11.01373009, 13.11972326, 15.22571643, 17.3317096 , 19.43770277,\n",
              "       21.54369594, 23.64968911, 25.75568228, 27.86167545, 29.96766862,\n",
              "       32.07366179, 34.17965496, 36.28564813, 38.39164129, 40.49763446])"
            ]
          },
          "metadata": {},
          "execution_count": 26
        }
      ]
    },
    {
      "cell_type": "code",
      "source": [
        "plt.plot(x,\"ro\")\n",
        "plt.plot(x,\"b\")"
      ],
      "metadata": {
        "id": "kjJ62dj0WMrj",
        "outputId": "b6a6b667-7299-448b-8a4e-8067a7088798",
        "colab": {
          "base_uri": "https://localhost:8080/",
          "height": 282
        }
      },
      "execution_count": 28,
      "outputs": [
        {
          "output_type": "execute_result",
          "data": {
            "text/plain": [
              "[<matplotlib.lines.Line2D at 0x7fa0d5489550>]"
            ]
          },
          "metadata": {},
          "execution_count": 28
        },
        {
          "output_type": "display_data",
          "data": {
            "text/plain": [
              "<Figure size 432x288 with 1 Axes>"
            ],
            "image/png": "[encoded data removed]"
          },
          "metadata": {
            "needs_background": "light"
          }
        }
      ]
    }
  ]
}