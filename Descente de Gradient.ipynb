{
  "nbformat": 4,
  "nbformat_minor": 0,
  "metadata": {
    "colab": {
      "name": "Descent Gradient.ipynb",
      "provenance": [],
      "collapsed_sections": []
    },
    "kernelspec": {
      "name": "python3",
      "display_name": "Python 3"
    },
    "language_info": {
      "name": "python"
    }
  },
  "cells": [
    {
      "cell_type": "code",
      "execution_count": 3,
      "metadata": {
        "id": "NcvGZ-ZLnSk7"
      },
      "outputs": [],
      "source": [
        "import numpy as np\n",
        "import matplotlib.pyplot as plt"
      ]
    },
    {
      "cell_type": "code",
      "source": [
        "x = np.arange(-20,20) # intervalle de x est entre -20 et 20\n",
        "\n",
        "def f(x):             # fonction à minimiser x²+4x+1\n",
        "  return x**2+4*x+1\n",
        "\n",
        "def grad_f(x):        # le gradient (derive de f par rapport x)\n",
        "  return 2*x+4\n",
        "\n",
        "plt.plot(x,f(x))\n",
        "\n",
        "eps = 0.0004        # epsilon : la précision de la difference entre xi et xi+1\n",
        "kmax = 50\n",
        "k=0\n",
        "\n",
        "x = -18             # x0 le point de depart \n",
        "alpha = 0.2         # le pas de deplacement\n",
        "\n",
        "err = abs(x-(x - alpha*grad_f(x))) #la difference entre xi et xi+1\n",
        "\n",
        "while(err > eps and kmax > k):  # test d'arret, tant que la difference est plus grande que epsilon qu'on à donner, faire xi+1 = xi - alpha*grad\n",
        "  plt.plot(x,f(x),marker='o',color=\"red\")\n",
        "  x = x - alpha*grad_f(x)\n",
        "  err = abs(x-(x - alpha*grad_f(x)))\n",
        "  k+=1\n",
        "  print(err)"
      ],
      "metadata": {
        "colab": {
          "base_uri": "https://localhost:8080/",
          "height": 595
        },
        "id": "4numAcRSn5Ip",
        "outputId": "a5b91900-56e7-4e1b-e51f-167506724a5c"
      },
      "execution_count": 8,
      "outputs": [
        {
          "output_type": "stream",
          "name": "stdout",
          "text": [
            "3.84\n",
            "2.3040000000000003\n",
            "1.3823999999999996\n",
            "0.82944\n",
            "0.4976639999999999\n",
            "0.29859839999999993\n",
            "0.17915904000000005\n",
            "0.10749542400000012\n",
            "0.06449725439999998\n",
            "0.03869835263999999\n",
            "0.023219011584000082\n",
            "0.01393140695039996\n",
            "0.008358844170239799\n",
            "0.005015306502143879\n",
            "0.0030091839012866828\n",
            "0.0018055103407719209\n",
            "0.0010833062044630637\n",
            "0.0006499837226776606\n",
            "0.0003899902336068628\n"
          ]
        },
        {
          "output_type": "display_data",
          "data": {
            "text/plain": [
              "<Figure size 432x288 with 1 Axes>"
            ],
            "image/png": "[encoded data removed]"
          },
          "metadata": {
            "needs_background": "light"
          }
        }
      ]
    },
    {
      "cell_type": "markdown",
      "source": [
        "Valeur de x0 positif (x = 18)"
      ],
      "metadata": {
        "id": "r2ZGKAWRVPGd"
      }
    },
    {
      "cell_type": "code",
      "source": [
        "x = np.arange(-20,20)\n",
        "\n",
        "plt.plot(x,f(x))\n",
        "\n",
        "x = 18\n",
        "alpha = 0.2\n",
        "\n",
        "kmax = 50\n",
        "k=0\n",
        "\n",
        "err = abs(x-(x - alpha*grad_f(x)))\n",
        "\n",
        "while(err > eps and kmax > k):\n",
        "  plt.plot(x,f(x),marker='o',color=\"red\")\n",
        "  x = x - alpha*grad_f(x)\n",
        "  err = abs(x-(x - alpha*grad_f(x)))\n",
        "  k+=1\n",
        "  print(err)"
      ],
      "metadata": {
        "colab": {
          "base_uri": "https://localhost:8080/",
          "height": 612
        },
        "id": "eAntlv0ZUCys",
        "outputId": "87a59521-7c0f-4865-c7ef-b923bdae4636"
      },
      "execution_count": 16,
      "outputs": [
        {
          "output_type": "stream",
          "name": "stdout",
          "text": [
            "4.800000000000001\n",
            "2.88\n",
            "1.7279999999999998\n",
            "1.0368\n",
            "0.62208\n",
            "0.3732479999999998\n",
            "0.22394880000000006\n",
            "0.13436928000000004\n",
            "0.08062156799999998\n",
            "0.048372940799999986\n",
            "0.02902376447999999\n",
            "0.01741425868799995\n",
            "0.01044855521279997\n",
            "0.006269133127680071\n",
            "0.0037614798766079094\n",
            "0.00225688792596479\n",
            "0.0013541327555788296\n",
            "0.0008124796533472978\n",
            "0.0004874877920084675\n",
            "0.0002924926752050361\n"
          ]
        },
        {
          "output_type": "display_data",
          "data": {
            "text/plain": [
              "<Figure size 432x288 with 1 Axes>"
            ],
            "image/png": "[encoded data removed]"
          },
          "metadata": {
            "needs_background": "light"
          }
        }
      ]
    },
    {
      "cell_type": "markdown",
      "source": [
        "Le choix de alpha :\n",
        "Avec pas de deplacement alpha grande (risque de ne pas tomber sur la meilleure point après certain nombre d'itérations) : "
      ],
      "metadata": {
        "id": "eQTyIAWSUvtn"
      }
    },
    {
      "cell_type": "code",
      "source": [
        "x = np.arange(-20,20)\n",
        "\n",
        "plt.plot(x,f(x))\n",
        "\n",
        "x = -18\n",
        "alpha = 0.991\n",
        "\n",
        "kmax = 100\n",
        "k=0\n",
        "\n",
        "err = abs(x-(x - alpha*grad_f(x)))\n",
        "\n",
        "while(err > eps and kmax > k):\n",
        "  plt.plot(x,f(x),marker='o',color=\"red\")\n",
        "  x = x - alpha*grad_f(x)\n",
        "  err = abs(x-(x - alpha*grad_f(x)))\n",
        "  k+=1"
      ],
      "metadata": {
        "colab": {
          "base_uri": "https://localhost:8080/",
          "height": 265
        },
        "id": "iI-IygZAUumL",
        "outputId": "44515381-b88f-4070-ed0e-41508d017b0f"
      },
      "execution_count": 19,
      "outputs": [
        {
          "output_type": "display_data",
          "data": {
            "text/plain": [
              "<Figure size 432x288 with 1 Axes>"
            ],
            "image/png": "[encoded data removed]"
          },
          "metadata": {
            "needs_background": "light"
          }
        }
      ]
    },
    {
      "cell_type": "markdown",
      "source": [
        ""
      ],
      "metadata": {
        "id": "affQNbXDU-V0"
      }
    },
    {
      "cell_type": "markdown",
      "source": [
        "Avec pas de deplacement alpha petit (risque de ne pas tomber sur la meilleure point après certain nombre d'itérations ou de prendre un temps plus grande) : "
      ],
      "metadata": {
        "id": "BrjlGvaGU_yc"
      }
    },
    {
      "cell_type": "code",
      "source": [
        "x = np.arange(-20,20)\n",
        "\n",
        "plt.plot(x,f(x))\n",
        "\n",
        "x = -18\n",
        "alpha = 0.005\n",
        "\n",
        "kmax = 100\n",
        "k=0\n",
        "\n",
        "err = abs(x-(x - alpha*grad_f(x)))\n",
        "\n",
        "while(err > eps and kmax > k):\n",
        "  plt.plot(x,f(x),marker='o',color=\"red\")\n",
        "  x = x - alpha*grad_f(x)\n",
        "  err = abs(x-(x - alpha*grad_f(x)))\n",
        "  k+=1"
      ],
      "metadata": {
        "colab": {
          "base_uri": "https://localhost:8080/",
          "height": 265
        },
        "id": "ZBQQtfYZVCMj",
        "outputId": "b8d9f60e-0705-4810-f769-26603bdca780"
      },
      "execution_count": 23,
      "outputs": [
        {
          "output_type": "display_data",
          "data": {
            "text/plain": [
              "<Figure size 432x288 with 1 Axes>"
            ],
            "image/png": "[encoded data removed]"
          },
          "metadata": {
            "needs_background": "light"
          }
        }
      ]
    }
  ]
}